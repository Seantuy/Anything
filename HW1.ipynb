{
 "cells": [
  {
   "cell_type": "code",
   "execution_count": 17,
   "metadata": {},
   "outputs": [
    {
     "name": "stdout",
     "output_type": "stream",
     "text": [
      "A = [[ 1  3  7  2]\n",
      " [ 5  8  9  0]\n",
      " [ 6  7 11 12]]\n",
      "a = [[1]\n",
      " [3]\n",
      " [7]\n",
      " [2]]\n"
     ]
    }
   ],
   "source": [
    "import numpy as np\n",
    "import numpy.linalg as la\n",
    "\n",
    "a = np.array([[1],[3],[7],[2]])\n",
    "\n",
    "\n",
    "A = np.array([[1, 3, 7, 2], [5, 8, 9, 0], [6, 7, 11, 12]])\n",
    "\n",
    "print(\"A =\", A)\n",
    "print(\"a =\", a)\n"
   ]
  },
  {
   "cell_type": "code",
   "execution_count": 18,
   "metadata": {},
   "outputs": [
    {
     "name": "stdout",
     "output_type": "stream",
     "text": [
      "A+B = [[ 1  1]\n",
      " [ 1 -5]]\n",
      "A-B = [[-1  1]\n",
      " [-5 -1]]\n",
      "A+B\n"
     ]
    }
   ],
   "source": [
    "A= np.array([[0, 1],[-2, -3]])\n",
    "\n",
    "B =np.array([[1, 0],[3, -2]])\n",
    "\n",
    "C = A + B \n",
    "print(\"A+B =\", C)\n",
    "\n",
    "C = A - B \n",
    "print (\"A-B =\", C)\n",
    "\n",
    "C =A * B\n",
    "print(\"A+B\")"
   ]
  },
  {
   "cell_type": "code",
   "execution_count": 19,
   "metadata": {},
   "outputs": [
    {
     "name": "stdout",
     "output_type": "stream",
     "text": [
      "Matrix multiplication using NumPy:\n",
      "[[ 8  3]\n",
      " [14  5]]\n",
      "\n",
      "Element-wise multiplication using NumPy:\n",
      "[[2 0]\n",
      " [8 5]]\n",
      "\n",
      "Matrix addition using NumPy:\n",
      "[[3 3]\n",
      " [6 6]]\n",
      "\n",
      "Matrix subtraction using NumPy:\n",
      "[[1 3]\n",
      " [2 4]]\n",
      "\n",
      "Determinant of matrix A using NumPy:\n",
      "-2.0\n",
      "\n",
      "Inverse of matrix A using NumPy:\n",
      "[[-2.5  1.5]\n",
      " [ 2.  -1. ]]\n"
     ]
    }
   ],
   "source": [
    "import numpy as np\n",
    "\n",
    "# Define matrices using NumPy\n",
    "matrix_a = np.array([[2, 3],\n",
    "                      [4, 5]])\n",
    "matrix_b = np.array([[1, 0],\n",
    "                      [2, 1]])\n",
    "\n",
    "# Matrix multiplication using NumPy\n",
    "numpy_result = np.dot(matrix_a, matrix_b)\n",
    "print(\"Matrix multiplication using NumPy:\")\n",
    "print(numpy_result)\n",
    "\n",
    "# Element-wise multiplication using NumPy\n",
    "element_wise_result = np.multiply(matrix_a, matrix_b)\n",
    "print(\"\\nElement-wise multiplication using NumPy:\")\n",
    "print(element_wise_result)\n",
    "\n",
    "# Matrix addition using NumPy\n",
    "numpy_addition = np.add(matrix_a, matrix_b)\n",
    "print(\"\\nMatrix addition using NumPy:\")\n",
    "print(numpy_addition)\n",
    "\n",
    "# Matrix subtraction using NumPy\n",
    "numpy_subtraction = np.subtract(matrix_a, matrix_b)\n",
    "print(\"\\nMatrix subtraction using NumPy:\")\n",
    "print(numpy_subtraction)\n",
    "\n",
    "# Determinant using NumPy\n",
    "numpy_determinant_a = np.linalg.det(matrix_a)\n",
    "print(\"\\nDeterminant of matrix A using NumPy:\")\n",
    "print(numpy_determinant_a)\n",
    "\n",
    "# Inverse using NumPy\n",
    "numpy_inverse_a = np.linalg.inv(matrix_a)\n",
    "print(\"\\nInverse of matrix A using NumPy:\")\n",
    "print(numpy_inverse_a)\n"
   ]
  }
 ],
 "metadata": {
  "kernelspec": {
   "display_name": "Python 3",
   "language": "python",
   "name": "python3"
  },
  "language_info": {
   "codemirror_mode": {
    "name": "ipython",
    "version": 3
   },
   "file_extension": ".py",
   "mimetype": "text/x-python",
   "name": "python",
   "nbconvert_exporter": "python",
   "pygments_lexer": "ipython3",
   "version": "3.10.4"
  }
 },
 "nbformat": 4,
 "nbformat_minor": 2
}
